{
 "cells": [
  {
   "cell_type": "code",
   "execution_count": 1,
   "id": "b383795a-6d73-419f-996f-30d960357fa1",
   "metadata": {},
   "outputs": [],
   "source": [
    "import pandas as pd\n",
    "import matplotlib.pyplot as plt"
   ]
  },
  {
   "cell_type": "code",
   "execution_count": 2,
   "id": "620e4a6b-3183-40d2-8f22-13b38423ed23",
   "metadata": {},
   "outputs": [],
   "source": [
    "# Importando o dataset e modificando o tipo da coluna \"date_added\".\n",
    "\n",
    "netflix = pd.read_csv(\"netflix_titles.csv\", index_col = \"show_id\")\n",
    "netflix[\"date_added\"] = pd.to_datetime(netflix[\"date_added\"], format = \"mixed\")\n",
    "netflix[\"date_added\"] = netflix[\"date_added\"].dt.date"
   ]
  },
  {
   "cell_type": "code",
   "execution_count": 3,
   "id": "0db0be0c-18f8-415c-8b34-e75d9af80573",
   "metadata": {},
   "outputs": [],
   "source": [
    "# Padronizando o nome do índice e das colunas do dataset.\n",
    "\n",
    "netflix.index.name = \"Show ID\"\n",
    "netflix.index = netflix.index.str.title()\n",
    "\n",
    "netflix.columns = netflix.columns.str.title()\n",
    "netflix.columns = netflix.columns.str.replace(\"_\", \" \")"
   ]
  },
  {
   "cell_type": "code",
   "execution_count": 4,
   "id": "7279702c-226c-4a39-91ba-86e959fc4d68",
   "metadata": {},
   "outputs": [],
   "source": [
    "# Otimizando o dataset e tratando valores ausentes.\n",
    "\n",
    "netflix[\"Type\"] = netflix[\"Type\"].astype(\"category\")\n",
    "netflix[\"Rating\"] = netflix[\"Rating\"].fillna(\"Unknown\")\n",
    "netflix[\"Rating\"] = netflix[\"Rating\"].astype(\"category\")\n",
    "netflix.drop(\"Description\", axis = 1, inplace = True)\n",
    "\n",
    "netflix[\"Director\"] = netflix[\"Director\"].fillna(\"Unknown\")\n",
    "netflix[\"Cast\"] = netflix[\"Cast\"].fillna(\"Unknown\")\n",
    "netflix[\"Country\"] = netflix[\"Country\"].fillna(\"Unknown\")\n",
    "netflix[\"Date Added\"] = netflix[\"Date Added\"].fillna(\"0000-00-00\")\n",
    "netflix[\"Duration\"] = netflix[\"Duration\"].fillna(\"Unknown\")"
   ]
  },
  {
   "cell_type": "code",
   "execution_count": 6,
   "id": "9f589fc3-5405-47ea-8ab0-e311155b4222",
   "metadata": {},
   "outputs": [
    {
     "name": "stdout",
     "output_type": "stream",
     "text": [
      "De acordo com os dados fornecidos pelo dataset e distribuídos através do gráfico, conseguimos observar que, na Netflix, os filmes são bem mais presentes que as séries.\n"
     ]
    },
    {
     "data": {
      "image/png": "[encoded data removed]",
      "text/plain": [
       "<Figure size 640x480 with 1 Axes>"
      ]
     },
     "metadata": {},
     "output_type": "display_data"
    }
   ],
   "source": [
    "# 1. Quantidade de séries vs. filmes\n",
    "\n",
    "quantidade_s_f = netflix[\"Type\"].value_counts()\n",
    "quant_dict = dict(quantidade_s_f)\n",
    "quant_dict[\"Filmes\"] = quant_dict.pop(\"Movie\")\n",
    "quant_dict[\"Séries\"] = quant_dict.pop(\"TV Show\")\n",
    "x = quant_dict.keys()\n",
    "y = quant_dict.values()\n",
    "\n",
    "# 1.1 Representação visual (gráfico de barra)\n",
    "\n",
    "plt.bar(x, y, color = \"darkblue\")\n",
    "plt.title(\"Quantidade de Séries vs. Filmes\")\n",
    "plt.xlabel(\"Séries e Filmes\", fontsize = 10)\n",
    "plt.ylabel(\"Quantidade\", fontsize = 8)\n",
    "\n",
    "# Conclusão:\n",
    "\n",
    "print(\"De acordo com os dados fornecidos pelo dataset e distribuídos através do gráfico, conseguimos observar que, na Netflix, os filmes são bem mais presentes que as séries.\")"
   ]
  },
  {
   "cell_type": "code",
   "execution_count": null,
   "id": "3fd4d874-d7cb-4759-a2ee-076c555fda69",
   "metadata": {},
   "outputs": [],
   "source": []
  }
 ],
 "metadata": {
  "kernelspec": {
   "display_name": "Python 3 (ipykernel)",
   "language": "python",
   "name": "python3"
  },
  "language_info": {
   "codemirror_mode": {
    "name": "ipython",
    "version": 3
   },
   "file_extension": ".py",
   "mimetype": "text/x-python",
   "name": "python",
   "nbconvert_exporter": "python",
   "pygments_lexer": "ipython3",
   "version": "3.13.2"
  }
 },
 "nbformat": 4,
 "nbformat_minor": 5
}
